{
    "cells": [
        {
            "cell_type": "markdown",
            "metadata": {
                "collapsed": true
            },
            "source": "# The Battle of the Neighborhoods: Scotiabank Arena, Toronto\n### Plan your next Toronto vacation around a Maple Leafs hockey game at Scotiabank Arena.\n---\nThe project overview for this source code can be found on my Github account [here](https://github.com/tressacroaker/Coursera_Capstone/blob/master/the_battle_of_the_neighborhoods_capstone.ipynb):\n\n---\n# TBD - The code for this project will be added in part two of the project submissions"
        },
        {
            "cell_type": "code",
            "execution_count": null,
            "metadata": {},
            "outputs": [],
            "source": ""
        }
    ],
    "metadata": {
        "kernelspec": {
            "display_name": "Python 3.6",
            "language": "python",
            "name": "python3"
        },
        "language_info": {
            "codemirror_mode": {
                "name": "ipython",
                "version": 3
            },
            "file_extension": ".py",
            "mimetype": "text/x-python",
            "name": "python",
            "nbconvert_exporter": "python",
            "pygments_lexer": "ipython3",
            "version": "3.6.9"
        }
    },
    "nbformat": 4,
    "nbformat_minor": 1
}