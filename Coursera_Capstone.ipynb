{
    "cells": [
        {
            "cell_type": "markdown",
            "metadata": {
                "collapsed": true
            },
            "source": "# Coursera_Capstone\n---\n\n#### This notebook will be mainly used for the capstone project.\n---\n"
        },
        {
            "cell_type": "code",
            "execution_count": 1,
            "metadata": {},
            "outputs": [],
            "source": "import pandas as pd\nimport numpy as np"
        },
        {
            "cell_type": "markdown",
            "metadata": {},
            "source": "Hello Capstone Project Course!"
        },
        {
            "cell_type": "markdown",
            "metadata": {},
            "source": "- Click [HERE](https://dataplatform.cloud.ibm.com/analytics/notebooks/v2/d9c0bc09-6dcc-49d6-a87f-ffa280143bd8/view?access_token=eb22d08db9c1ecd02a767a6ebaa23406d0d41c6c9f4861b84b2e693b2cfe3d3b) to access this notebook IBM Watson Studio."
        },
        {
            "cell_type": "code",
            "execution_count": null,
            "metadata": {},
            "outputs": [],
            "source": ""
        }
    ],
    "metadata": {
        "kernelspec": {
            "display_name": "Python 3.6",
            "language": "python",
            "name": "python3"
        },
        "language_info": {
            "codemirror_mode": {
                "name": "ipython",
                "version": 3
            },
            "file_extension": ".py",
            "mimetype": "text/x-python",
            "name": "python",
            "nbconvert_exporter": "python",
            "pygments_lexer": "ipython3",
            "version": "3.6.9"
        }
    },
    "nbformat": 4,
    "nbformat_minor": 1
}